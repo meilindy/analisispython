{
 "cells": [
  {
   "cell_type": "code",
   "execution_count": 3,
   "id": "4e1edc0e-1e1d-41c0-ab3b-8291c8437b44",
   "metadata": {},
   "outputs": [
    {
     "name": "stdout",
     "output_type": "stream",
     "text": [
      "Requirement already satisfied: streamlit in c:\\users\\lmeil\\.virtualenvs\\tugas_akhir-aedwyg51\\lib\\site-packages (1.38.0)Note: you may need to restart the kernel to use updated packages.\n",
      "\n",
      "Requirement already satisfied: babel in c:\\users\\lmeil\\.virtualenvs\\tugas_akhir-aedwyg51\\lib\\site-packages (2.16.0)\n",
      "Requirement already satisfied: altair<6,>=4.0 in c:\\users\\lmeil\\.virtualenvs\\tugas_akhir-aedwyg51\\lib\\site-packages (from streamlit) (5.4.1)\n",
      "Requirement already satisfied: blinker<2,>=1.0.0 in c:\\users\\lmeil\\.virtualenvs\\tugas_akhir-aedwyg51\\lib\\site-packages (from streamlit) (1.8.2)\n",
      "Requirement already satisfied: cachetools<6,>=4.0 in c:\\users\\lmeil\\.virtualenvs\\tugas_akhir-aedwyg51\\lib\\site-packages (from streamlit) (5.5.0)\n",
      "Requirement already satisfied: click<9,>=7.0 in c:\\users\\lmeil\\.virtualenvs\\tugas_akhir-aedwyg51\\lib\\site-packages (from streamlit) (8.1.7)\n",
      "Requirement already satisfied: numpy<3,>=1.20 in c:\\users\\lmeil\\.virtualenvs\\tugas_akhir-aedwyg51\\lib\\site-packages (from streamlit) (2.1.1)\n",
      "Requirement already satisfied: packaging<25,>=20 in c:\\users\\lmeil\\.virtualenvs\\tugas_akhir-aedwyg51\\lib\\site-packages (from streamlit) (24.1)\n",
      "Requirement already satisfied: pandas<3,>=1.3.0 in c:\\users\\lmeil\\.virtualenvs\\tugas_akhir-aedwyg51\\lib\\site-packages (from streamlit) (2.2.3)\n",
      "Requirement already satisfied: pillow<11,>=7.1.0 in c:\\users\\lmeil\\.virtualenvs\\tugas_akhir-aedwyg51\\lib\\site-packages (from streamlit) (10.4.0)\n",
      "Requirement already satisfied: protobuf<6,>=3.20 in c:\\users\\lmeil\\.virtualenvs\\tugas_akhir-aedwyg51\\lib\\site-packages (from streamlit) (5.28.2)\n",
      "Requirement already satisfied: pyarrow>=7.0 in c:\\users\\lmeil\\.virtualenvs\\tugas_akhir-aedwyg51\\lib\\site-packages (from streamlit) (17.0.0)\n",
      "Requirement already satisfied: requests<3,>=2.27 in c:\\users\\lmeil\\.virtualenvs\\tugas_akhir-aedwyg51\\lib\\site-packages (from streamlit) (2.32.3)\n",
      "Requirement already satisfied: rich<14,>=10.14.0 in c:\\users\\lmeil\\.virtualenvs\\tugas_akhir-aedwyg51\\lib\\site-packages (from streamlit) (13.8.1)\n",
      "Requirement already satisfied: tenacity<9,>=8.1.0 in c:\\users\\lmeil\\.virtualenvs\\tugas_akhir-aedwyg51\\lib\\site-packages (from streamlit) (8.5.0)\n",
      "Requirement already satisfied: toml<2,>=0.10.1 in c:\\users\\lmeil\\.virtualenvs\\tugas_akhir-aedwyg51\\lib\\site-packages (from streamlit) (0.10.2)\n",
      "Requirement already satisfied: typing-extensions<5,>=4.3.0 in c:\\users\\lmeil\\.virtualenvs\\tugas_akhir-aedwyg51\\lib\\site-packages (from streamlit) (4.12.2)\n",
      "Requirement already satisfied: gitpython!=3.1.19,<4,>=3.0.7 in c:\\users\\lmeil\\.virtualenvs\\tugas_akhir-aedwyg51\\lib\\site-packages (from streamlit) (3.1.43)\n",
      "Requirement already satisfied: pydeck<1,>=0.8.0b4 in c:\\users\\lmeil\\.virtualenvs\\tugas_akhir-aedwyg51\\lib\\site-packages (from streamlit) (0.9.1)\n",
      "Requirement already satisfied: tornado<7,>=6.0.3 in c:\\users\\lmeil\\.virtualenvs\\tugas_akhir-aedwyg51\\lib\\site-packages (from streamlit) (6.4.1)\n",
      "Requirement already satisfied: watchdog<5,>=2.1.5 in c:\\users\\lmeil\\.virtualenvs\\tugas_akhir-aedwyg51\\lib\\site-packages (from streamlit) (4.0.2)\n",
      "Requirement already satisfied: jinja2 in c:\\users\\lmeil\\.virtualenvs\\tugas_akhir-aedwyg51\\lib\\site-packages (from altair<6,>=4.0->streamlit) (3.1.4)\n",
      "Requirement already satisfied: jsonschema>=3.0 in c:\\users\\lmeil\\.virtualenvs\\tugas_akhir-aedwyg51\\lib\\site-packages (from altair<6,>=4.0->streamlit) (4.23.0)\n",
      "Requirement already satisfied: narwhals>=1.5.2 in c:\\users\\lmeil\\.virtualenvs\\tugas_akhir-aedwyg51\\lib\\site-packages (from altair<6,>=4.0->streamlit) (1.8.4)\n",
      "Requirement already satisfied: colorama in c:\\users\\lmeil\\.virtualenvs\\tugas_akhir-aedwyg51\\lib\\site-packages (from click<9,>=7.0->streamlit) (0.4.6)\n",
      "Requirement already satisfied: gitdb<5,>=4.0.1 in c:\\users\\lmeil\\.virtualenvs\\tugas_akhir-aedwyg51\\lib\\site-packages (from gitpython!=3.1.19,<4,>=3.0.7->streamlit) (4.0.11)\n",
      "Requirement already satisfied: python-dateutil>=2.8.2 in c:\\users\\lmeil\\.virtualenvs\\tugas_akhir-aedwyg51\\lib\\site-packages (from pandas<3,>=1.3.0->streamlit) (2.9.0.post0)\n",
      "Requirement already satisfied: pytz>=2020.1 in c:\\users\\lmeil\\.virtualenvs\\tugas_akhir-aedwyg51\\lib\\site-packages (from pandas<3,>=1.3.0->streamlit) (2024.2)\n",
      "Requirement already satisfied: tzdata>=2022.7 in c:\\users\\lmeil\\.virtualenvs\\tugas_akhir-aedwyg51\\lib\\site-packages (from pandas<3,>=1.3.0->streamlit) (2024.2)\n",
      "Requirement already satisfied: charset-normalizer<4,>=2 in c:\\users\\lmeil\\.virtualenvs\\tugas_akhir-aedwyg51\\lib\\site-packages (from requests<3,>=2.27->streamlit) (3.3.2)\n",
      "Requirement already satisfied: idna<4,>=2.5 in c:\\users\\lmeil\\.virtualenvs\\tugas_akhir-aedwyg51\\lib\\site-packages (from requests<3,>=2.27->streamlit) (3.10)\n",
      "Requirement already satisfied: urllib3<3,>=1.21.1 in c:\\users\\lmeil\\.virtualenvs\\tugas_akhir-aedwyg51\\lib\\site-packages (from requests<3,>=2.27->streamlit) (2.2.3)\n",
      "Requirement already satisfied: certifi>=2017.4.17 in c:\\users\\lmeil\\.virtualenvs\\tugas_akhir-aedwyg51\\lib\\site-packages (from requests<3,>=2.27->streamlit) (2024.8.30)\n",
      "Requirement already satisfied: markdown-it-py>=2.2.0 in c:\\users\\lmeil\\.virtualenvs\\tugas_akhir-aedwyg51\\lib\\site-packages (from rich<14,>=10.14.0->streamlit) (3.0.0)\n",
      "Requirement already satisfied: pygments<3.0.0,>=2.13.0 in c:\\users\\lmeil\\.virtualenvs\\tugas_akhir-aedwyg51\\lib\\site-packages (from rich<14,>=10.14.0->streamlit) (2.18.0)\n",
      "Requirement already satisfied: smmap<6,>=3.0.1 in c:\\users\\lmeil\\.virtualenvs\\tugas_akhir-aedwyg51\\lib\\site-packages (from gitdb<5,>=4.0.1->gitpython!=3.1.19,<4,>=3.0.7->streamlit) (5.0.1)\n",
      "Requirement already satisfied: MarkupSafe>=2.0 in c:\\users\\lmeil\\.virtualenvs\\tugas_akhir-aedwyg51\\lib\\site-packages (from jinja2->altair<6,>=4.0->streamlit) (2.1.5)\n",
      "Requirement already satisfied: attrs>=22.2.0 in c:\\users\\lmeil\\.virtualenvs\\tugas_akhir-aedwyg51\\lib\\site-packages (from jsonschema>=3.0->altair<6,>=4.0->streamlit) (24.2.0)\n",
      "Requirement already satisfied: jsonschema-specifications>=2023.03.6 in c:\\users\\lmeil\\.virtualenvs\\tugas_akhir-aedwyg51\\lib\\site-packages (from jsonschema>=3.0->altair<6,>=4.0->streamlit) (2023.12.1)\n",
      "Requirement already satisfied: referencing>=0.28.4 in c:\\users\\lmeil\\.virtualenvs\\tugas_akhir-aedwyg51\\lib\\site-packages (from jsonschema>=3.0->altair<6,>=4.0->streamlit) (0.35.1)\n",
      "Requirement already satisfied: rpds-py>=0.7.1 in c:\\users\\lmeil\\.virtualenvs\\tugas_akhir-aedwyg51\\lib\\site-packages (from jsonschema>=3.0->altair<6,>=4.0->streamlit) (0.20.0)\n",
      "Requirement already satisfied: mdurl~=0.1 in c:\\users\\lmeil\\.virtualenvs\\tugas_akhir-aedwyg51\\lib\\site-packages (from markdown-it-py>=2.2.0->rich<14,>=10.14.0->streamlit) (0.1.2)\n",
      "Requirement already satisfied: six>=1.5 in c:\\users\\lmeil\\.virtualenvs\\tugas_akhir-aedwyg51\\lib\\site-packages (from python-dateutil>=2.8.2->pandas<3,>=1.3.0->streamlit) (1.16.0)\n"
     ]
    }
   ],
   "source": [
    "pip install streamlit babel"
   ]
  },
  {
   "cell_type": "code",
   "execution_count": 4,
   "id": "07bd3886-7285-4c55-9254-7a0f6f105538",
   "metadata": {},
   "outputs": [],
   "source": [
    "import pandas as pd\n",
    "import matplotlib.pyplot as plt\n",
    "import seaborn as sns\n",
    "import streamlit as st\n",
    "from babel.numbers import format_currency\n",
    "sns.set(style='dark')"
   ]
  },
  {
   "cell_type": "code",
   "execution_count": 5,
   "id": "9ce34756-e43c-4bcf-9ae0-c160e5f59e50",
   "metadata": {},
   "outputs": [],
   "source": [
    "all_df = pd.read_csv(\"df.csv\")"
   ]
  },
  {
   "cell_type": "code",
   "execution_count": 9,
   "id": "cc419ecf-514f-42a7-8764-75a241ac4878",
   "metadata": {},
   "outputs": [
    {
     "name": "stderr",
     "output_type": "stream",
     "text": [
      "2024-09-29 23:08:42.123 Thread 'MainThread': missing ScriptRunContext! This warning can be ignored when running in bare mode.\n",
      "2024-09-29 23:08:42.128 Thread 'MainThread': missing ScriptRunContext! This warning can be ignored when running in bare mode.\n",
      "2024-09-29 23:08:42.128 Thread 'MainThread': missing ScriptRunContext! This warning can be ignored when running in bare mode.\n",
      "2024-09-29 23:08:42.134 Thread 'MainThread': missing ScriptRunContext! This warning can be ignored when running in bare mode.\n",
      "2024-09-29 23:08:42.136 Thread 'MainThread': missing ScriptRunContext! This warning can be ignored when running in bare mode.\n",
      "2024-09-29 23:08:42.140 Thread 'MainThread': missing ScriptRunContext! This warning can be ignored when running in bare mode.\n",
      "2024-09-29 23:08:42.141 Thread 'MainThread': missing ScriptRunContext! This warning can be ignored when running in bare mode.\n",
      "2024-09-29 23:08:42.144 Thread 'MainThread': missing ScriptRunContext! This warning can be ignored when running in bare mode.\n",
      "2024-09-29 23:08:42.146 Thread 'MainThread': missing ScriptRunContext! This warning can be ignored when running in bare mode.\n",
      "2024-09-29 23:08:42.149 Thread 'MainThread': missing ScriptRunContext! This warning can be ignored when running in bare mode.\n",
      "2024-09-29 23:08:42.151 Thread 'MainThread': missing ScriptRunContext! This warning can be ignored when running in bare mode.\n",
      "2024-09-29 23:08:42.349 Thread 'MainThread': missing ScriptRunContext! This warning can be ignored when running in bare mode.\n",
      "2024-09-29 23:08:43.210 Thread 'MainThread': missing ScriptRunContext! This warning can be ignored when running in bare mode.\n",
      "2024-09-29 23:08:43.212 Thread 'MainThread': missing ScriptRunContext! This warning can be ignored when running in bare mode.\n",
      "2024-09-29 23:08:43.212 Thread 'MainThread': missing ScriptRunContext! This warning can be ignored when running in bare mode.\n",
      "2024-09-29 23:08:43.214 Thread 'MainThread': missing ScriptRunContext! This warning can be ignored when running in bare mode.\n",
      "2024-09-29 23:08:43.382 Thread 'MainThread': missing ScriptRunContext! This warning can be ignored when running in bare mode.\n",
      "2024-09-29 23:08:45.119 Thread 'MainThread': missing ScriptRunContext! This warning can be ignored when running in bare mode.\n",
      "2024-09-29 23:08:45.119 Thread 'MainThread': missing ScriptRunContext! This warning can be ignored when running in bare mode.\n",
      "2024-09-29 23:08:45.119 Thread 'MainThread': missing ScriptRunContext! This warning can be ignored when running in bare mode.\n",
      "2024-09-29 23:08:45.128 Thread 'MainThread': missing ScriptRunContext! This warning can be ignored when running in bare mode.\n",
      "2024-09-29 23:08:45.238 Thread 'MainThread': missing ScriptRunContext! This warning can be ignored when running in bare mode.\n",
      "2024-09-29 23:08:46.218 Thread 'MainThread': missing ScriptRunContext! This warning can be ignored when running in bare mode.\n",
      "2024-09-29 23:08:46.226 Thread 'MainThread': missing ScriptRunContext! This warning can be ignored when running in bare mode.\n"
     ]
    },
    {
     "data": {
      "text/plain": [
       "DeltaGenerator()"
      ]
     },
     "execution_count": 9,
     "metadata": {},
     "output_type": "execute_result"
    }
   ],
   "source": [
    "import pandas as pd\n",
    "import matplotlib.pyplot as plt\n",
    "import seaborn as sns\n",
    "import streamlit as st\n",
    "sns.set(style='dark')\n",
    "\n",
    "# Helper function to create specific DataFrames for analysis\n",
    "def create_temp_polutant_df(df):\n",
    "    temp_polutant_df = df[['TEMP', 'PM2.5', 'CO', 'O3']]\n",
    "    return temp_polutant_df.corr()\n",
    "\n",
    "def create_precipitation_wind_df(df):\n",
    "    precipitation_wind_df = df[['PRES', 'WSPM']].dropna()\n",
    "    return precipitation_wind_df\n",
    "\n",
    "def create_avg_temp_per_month_df(df):\n",
    "    df['month'] = pd.to_datetime(df['month'], format='%m')\n",
    "    avg_temp_per_month = df.groupby(df['month'].dt.month)['TEMP'].mean().reset_index()\n",
    "    avg_temp_per_month['month'] = avg_temp_per_month['month'].apply(lambda x: f'Month {x}')\n",
    "    return avg_temp_per_month\n",
    "\n",
    "# Load dataset\n",
    "air_quality_df = pd.read_csv(\"df.csv\")\n",
    "\n",
    "# Sidebar options\n",
    "with st.sidebar:\n",
    "    air_quality_df[\"date\"] = pd.to_datetime(air_quality_df[\"year\"].astype(str) + '-' + air_quality_df[\"month\"].astype(str) + '-' + air_quality_df[\"day\"].astype(str))\n",
    "    min_date = air_quality_df[\"date\"].min()\n",
    "    max_date = air_quality_df[\"date\"].max()\n",
    "\n",
    "# Create dataframes for visualization\n",
    "temp_polutant_corr = create_temp_polutant_df(air_quality_df)\n",
    "precipitation_wind_df = create_precipitation_wind_df(air_quality_df)\n",
    "avg_temp_per_month = create_avg_temp_per_month_df(air_quality_df)\n",
    "\n",
    "# Sidebar logo and date range selection\n",
    "with st.sidebar:\n",
    "    st.image(\"https://example.com/logo.png\")\n",
    "    start_date, end_date = st.date_input('Rentang Waktu', min_value=min_date, max_value=max_date, value=[min_date, max_date])\n",
    "\n",
    "# Main title\n",
    "st.header('Air Quality Dashboard :sparkles:')\n",
    "\n",
    "# Correlation between Temperature and Pollutants\n",
    "st.subheader('Correlation between Temperature and Pollutants (PM2.5, CO, O3)')\n",
    "\n",
    "fig, ax = plt.subplots(figsize=(10, 5))\n",
    "sns.heatmap(temp_polutant_corr, annot=True, cmap=\"coolwarm\", ax=ax)\n",
    "plt.title(\"Correlation Heatmap\", loc=\"center\", fontsize=15)\n",
    "st.pyplot(fig)\n",
    "\n",
    "# Scatter plot between Precipitation and Wind Speed\n",
    "st.subheader('Scatter Plot: Precipitation vs Wind Speed')\n",
    "\n",
    "fig, ax = plt.subplots(figsize=(10, 5))\n",
    "sns.scatterplot(x='PRES', y='WSPM', data=precipitation_wind_df, ax=ax)\n",
    "plt.title(\"Precipitation vs Wind Speed\", loc=\"center\", fontsize=15)\n",
    "plt.xlabel(\"Precipitation\")\n",
    "plt.ylabel(\"Wind Speed (WSPM)\")\n",
    "st.pyplot(fig)\n",
    "\n",
    "# Line plot of Average Temperature per Month\n",
    "st.subheader('Average Temperature per Month')\n",
    "\n",
    "fig, ax = plt.subplots(figsize=(10, 5))\n",
    "sns.lineplot(x='month', y='TEMP', data=avg_temp_per_month, ax=ax)\n",
    "plt.title(\"Average Temperature per Month\", loc=\"center\", fontsize=15)\n",
    "plt.xlabel(\"Month\")\n",
    "plt.ylabel(\"Average Temperature (°C)\")\n",
    "plt.tick_params(axis='x', labelsize=12)\n",
    "st.pyplot(fig)\n"
   ]
  },
  {
   "cell_type": "code",
   "execution_count": null,
   "id": "546508a6-efc3-40c6-b63e-ab91b0339816",
   "metadata": {},
   "outputs": [],
   "source": []
  }
 ],
 "metadata": {
  "kernelspec": {
   "display_name": "Python 3 (ipykernel)",
   "language": "python",
   "name": "python3"
  },
  "language_info": {
   "codemirror_mode": {
    "name": "ipython",
    "version": 3
   },
   "file_extension": ".py",
   "mimetype": "text/x-python",
   "name": "python",
   "nbconvert_exporter": "python",
   "pygments_lexer": "ipython3",
   "version": "3.12.1"
  }
 },
 "nbformat": 4,
 "nbformat_minor": 5
}
